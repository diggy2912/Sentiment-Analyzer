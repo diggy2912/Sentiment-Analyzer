{
 "cells": [
  {
   "cell_type": "markdown",
   "id": "7b746f80",
   "metadata": {},
   "source": [
    "1. Load the Dataset"
   ]
  },
  {
   "cell_type": "code",
   "execution_count": 2,
   "id": "deb545cf",
   "metadata": {},
   "outputs": [
    {
     "data": {
      "text/html": [
       "<div>\n",
       "<style scoped>\n",
       "    .dataframe tbody tr th:only-of-type {\n",
       "        vertical-align: middle;\n",
       "    }\n",
       "\n",
       "    .dataframe tbody tr th {\n",
       "        vertical-align: top;\n",
       "    }\n",
       "\n",
       "    .dataframe thead th {\n",
       "        text-align: right;\n",
       "    }\n",
       "</style>\n",
       "<table border=\"1\" class=\"dataframe\">\n",
       "  <thead>\n",
       "    <tr style=\"text-align: right;\">\n",
       "      <th></th>\n",
       "      <th>datetime</th>\n",
       "      <th>text</th>\n",
       "    </tr>\n",
       "  </thead>\n",
       "  <tbody>\n",
       "    <tr>\n",
       "      <th>0</th>\n",
       "      <td>2024-01-01 02:50:00+00:00</td>\n",
       "      <td>New year, new GST 💸</td>\n",
       "    </tr>\n",
       "    <tr>\n",
       "      <th>1</th>\n",
       "      <td>2024-01-01 16:04:00+00:00</td>\n",
       "      <td>Seems lik PC Lahore has charged GST from a cus...</td>\n",
       "    </tr>\n",
       "    <tr>\n",
       "      <th>2</th>\n",
       "      <td>2024-01-01 16:09:00+00:00</td>\n",
       "      <td>Is it possible that @FBRSpokesperson @PunjabRe...</td>\n",
       "    </tr>\n",
       "    <tr>\n",
       "      <th>3</th>\n",
       "      <td>2024-01-02 06:38:00+00:00</td>\n",
       "      <td>Selangor Journal | Padu to help reduce fuel su...</td>\n",
       "    </tr>\n",
       "    <tr>\n",
       "      <th>4</th>\n",
       "      <td>2024-01-03 02:59:00+00:00</td>\n",
       "      <td>Those who are migrant workers don't need to pa...</td>\n",
       "    </tr>\n",
       "  </tbody>\n",
       "</table>\n",
       "</div>"
      ],
      "text/plain": [
       "                    datetime  \\\n",
       "0  2024-01-01 02:50:00+00:00   \n",
       "1  2024-01-01 16:04:00+00:00   \n",
       "2  2024-01-01 16:09:00+00:00   \n",
       "3  2024-01-02 06:38:00+00:00   \n",
       "4  2024-01-03 02:59:00+00:00   \n",
       "\n",
       "                                                text  \n",
       "0                                New year, new GST 💸  \n",
       "1  Seems lik PC Lahore has charged GST from a cus...  \n",
       "2  Is it possible that @FBRSpokesperson @PunjabRe...  \n",
       "3  Selangor Journal | Padu to help reduce fuel su...  \n",
       "4  Those who are migrant workers don't need to pa...  "
      ]
     },
     "execution_count": 2,
     "metadata": {},
     "output_type": "execute_result"
    }
   ],
   "source": [
    "import pandas as pd\n",
    "\n",
    "# Upload the CSV file\n",
    "file_path = 'C:/Users/manas/Ayush Project/Sentiment Analysis/budget_2024.csv'  # Update this with the actual path to your file\n",
    "budget_data = pd.read_csv(file_path)\n",
    "\n",
    "# Display the first few rows of the dataset to ensure it's loaded correctly\n",
    "budget_data.head()"
   ]
  },
  {
   "cell_type": "markdown",
   "id": "95b23fe9",
   "metadata": {},
   "source": [
    "2. Converting Text to Lowercase"
   ]
  },
  {
   "cell_type": "code",
   "execution_count": 3,
   "id": "3c20e07e",
   "metadata": {},
   "outputs": [
    {
     "data": {
      "text/html": [
       "<div>\n",
       "<style scoped>\n",
       "    .dataframe tbody tr th:only-of-type {\n",
       "        vertical-align: middle;\n",
       "    }\n",
       "\n",
       "    .dataframe tbody tr th {\n",
       "        vertical-align: top;\n",
       "    }\n",
       "\n",
       "    .dataframe thead th {\n",
       "        text-align: right;\n",
       "    }\n",
       "</style>\n",
       "<table border=\"1\" class=\"dataframe\">\n",
       "  <thead>\n",
       "    <tr style=\"text-align: right;\">\n",
       "      <th></th>\n",
       "      <th>datetime</th>\n",
       "      <th>text</th>\n",
       "    </tr>\n",
       "  </thead>\n",
       "  <tbody>\n",
       "    <tr>\n",
       "      <th>0</th>\n",
       "      <td>2024-01-01 02:50:00+00:00</td>\n",
       "      <td>new year, new gst 💸</td>\n",
       "    </tr>\n",
       "    <tr>\n",
       "      <th>1</th>\n",
       "      <td>2024-01-01 16:04:00+00:00</td>\n",
       "      <td>seems lik pc lahore has charged gst from a cus...</td>\n",
       "    </tr>\n",
       "    <tr>\n",
       "      <th>2</th>\n",
       "      <td>2024-01-01 16:09:00+00:00</td>\n",
       "      <td>is it possible that @fbrspokesperson @punjabre...</td>\n",
       "    </tr>\n",
       "    <tr>\n",
       "      <th>3</th>\n",
       "      <td>2024-01-02 06:38:00+00:00</td>\n",
       "      <td>selangor journal | padu to help reduce fuel su...</td>\n",
       "    </tr>\n",
       "    <tr>\n",
       "      <th>4</th>\n",
       "      <td>2024-01-03 02:59:00+00:00</td>\n",
       "      <td>those who are migrant workers don't need to pa...</td>\n",
       "    </tr>\n",
       "  </tbody>\n",
       "</table>\n",
       "</div>"
      ],
      "text/plain": [
       "                    datetime  \\\n",
       "0  2024-01-01 02:50:00+00:00   \n",
       "1  2024-01-01 16:04:00+00:00   \n",
       "2  2024-01-01 16:09:00+00:00   \n",
       "3  2024-01-02 06:38:00+00:00   \n",
       "4  2024-01-03 02:59:00+00:00   \n",
       "\n",
       "                                                text  \n",
       "0                                new year, new gst 💸  \n",
       "1  seems lik pc lahore has charged gst from a cus...  \n",
       "2  is it possible that @fbrspokesperson @punjabre...  \n",
       "3  selangor journal | padu to help reduce fuel su...  \n",
       "4  those who are migrant workers don't need to pa...  "
      ]
     },
     "execution_count": 3,
     "metadata": {},
     "output_type": "execute_result"
    }
   ],
   "source": [
    "# Convert the 'text' column to lowercase\n",
    "budget_data['text'] = budget_data['text'].str.lower()\n",
    "\n",
    "# Display the first few rows to verify the changes\n",
    "budget_data.head()\n"
   ]
  },
  {
   "cell_type": "markdown",
   "id": "e8eb0875",
   "metadata": {},
   "source": [
    "3. Removing URLs from Text "
   ]
  },
  {
   "cell_type": "code",
   "execution_count": 4,
   "id": "22db60dc",
   "metadata": {},
   "outputs": [
    {
     "data": {
      "text/html": [
       "<div>\n",
       "<style scoped>\n",
       "    .dataframe tbody tr th:only-of-type {\n",
       "        vertical-align: middle;\n",
       "    }\n",
       "\n",
       "    .dataframe tbody tr th {\n",
       "        vertical-align: top;\n",
       "    }\n",
       "\n",
       "    .dataframe thead th {\n",
       "        text-align: right;\n",
       "    }\n",
       "</style>\n",
       "<table border=\"1\" class=\"dataframe\">\n",
       "  <thead>\n",
       "    <tr style=\"text-align: right;\">\n",
       "      <th></th>\n",
       "      <th>datetime</th>\n",
       "      <th>text</th>\n",
       "    </tr>\n",
       "  </thead>\n",
       "  <tbody>\n",
       "    <tr>\n",
       "      <th>0</th>\n",
       "      <td>2024-01-01 02:50:00+00:00</td>\n",
       "      <td>new year, new gst 💸</td>\n",
       "    </tr>\n",
       "    <tr>\n",
       "      <th>1</th>\n",
       "      <td>2024-01-01 16:04:00+00:00</td>\n",
       "      <td>seems lik pc lahore has charged gst from a cus...</td>\n",
       "    </tr>\n",
       "    <tr>\n",
       "      <th>2</th>\n",
       "      <td>2024-01-01 16:09:00+00:00</td>\n",
       "      <td>is it possible that @fbrspokesperson @punjabre...</td>\n",
       "    </tr>\n",
       "    <tr>\n",
       "      <th>3</th>\n",
       "      <td>2024-01-02 06:38:00+00:00</td>\n",
       "      <td>selangor journal | padu to help reduce fuel su...</td>\n",
       "    </tr>\n",
       "    <tr>\n",
       "      <th>4</th>\n",
       "      <td>2024-01-03 02:59:00+00:00</td>\n",
       "      <td>those who are migrant workers don't need to pa...</td>\n",
       "    </tr>\n",
       "  </tbody>\n",
       "</table>\n",
       "</div>"
      ],
      "text/plain": [
       "                    datetime  \\\n",
       "0  2024-01-01 02:50:00+00:00   \n",
       "1  2024-01-01 16:04:00+00:00   \n",
       "2  2024-01-01 16:09:00+00:00   \n",
       "3  2024-01-02 06:38:00+00:00   \n",
       "4  2024-01-03 02:59:00+00:00   \n",
       "\n",
       "                                                text  \n",
       "0                                new year, new gst 💸  \n",
       "1  seems lik pc lahore has charged gst from a cus...  \n",
       "2  is it possible that @fbrspokesperson @punjabre...  \n",
       "3  selangor journal | padu to help reduce fuel su...  \n",
       "4  those who are migrant workers don't need to pa...  "
      ]
     },
     "execution_count": 4,
     "metadata": {},
     "output_type": "execute_result"
    }
   ],
   "source": [
    "import re\n",
    "\n",
    "# Function to remove URLs from text\n",
    "def remove_urls(text):\n",
    "    url_pattern = re.compile(r'https?://\\S+|www\\.\\S+')\n",
    "    return url_pattern.sub(r'', text)\n",
    "\n",
    "# Apply the function to the 'text' column\n",
    "budget_data['text'] = budget_data['text'].apply(remove_urls)\n",
    "\n",
    "# Display the first few rows to verify the changes\n",
    "budget_data.head()\n"
   ]
  },
  {
   "cell_type": "markdown",
   "id": "83f2053a",
   "metadata": {},
   "source": [
    "4. Removing numbers from the text"
   ]
  },
  {
   "cell_type": "code",
   "execution_count": 5,
   "id": "f28f615f",
   "metadata": {},
   "outputs": [
    {
     "data": {
      "text/html": [
       "<div>\n",
       "<style scoped>\n",
       "    .dataframe tbody tr th:only-of-type {\n",
       "        vertical-align: middle;\n",
       "    }\n",
       "\n",
       "    .dataframe tbody tr th {\n",
       "        vertical-align: top;\n",
       "    }\n",
       "\n",
       "    .dataframe thead th {\n",
       "        text-align: right;\n",
       "    }\n",
       "</style>\n",
       "<table border=\"1\" class=\"dataframe\">\n",
       "  <thead>\n",
       "    <tr style=\"text-align: right;\">\n",
       "      <th></th>\n",
       "      <th>datetime</th>\n",
       "      <th>text</th>\n",
       "    </tr>\n",
       "  </thead>\n",
       "  <tbody>\n",
       "    <tr>\n",
       "      <th>0</th>\n",
       "      <td>2024-01-01 02:50:00+00:00</td>\n",
       "      <td>new year, new gst 💸</td>\n",
       "    </tr>\n",
       "    <tr>\n",
       "      <th>1</th>\n",
       "      <td>2024-01-01 16:04:00+00:00</td>\n",
       "      <td>seems lik pc lahore has charged gst from a cus...</td>\n",
       "    </tr>\n",
       "    <tr>\n",
       "      <th>2</th>\n",
       "      <td>2024-01-01 16:09:00+00:00</td>\n",
       "      <td>is it possible that @fbrspokesperson @punjabre...</td>\n",
       "    </tr>\n",
       "    <tr>\n",
       "      <th>3</th>\n",
       "      <td>2024-01-02 06:38:00+00:00</td>\n",
       "      <td>selangor journal | padu to help reduce fuel su...</td>\n",
       "    </tr>\n",
       "    <tr>\n",
       "      <th>4</th>\n",
       "      <td>2024-01-03 02:59:00+00:00</td>\n",
       "      <td>those who are migrant workers don't need to pa...</td>\n",
       "    </tr>\n",
       "  </tbody>\n",
       "</table>\n",
       "</div>"
      ],
      "text/plain": [
       "                    datetime  \\\n",
       "0  2024-01-01 02:50:00+00:00   \n",
       "1  2024-01-01 16:04:00+00:00   \n",
       "2  2024-01-01 16:09:00+00:00   \n",
       "3  2024-01-02 06:38:00+00:00   \n",
       "4  2024-01-03 02:59:00+00:00   \n",
       "\n",
       "                                                text  \n",
       "0                                new year, new gst 💸  \n",
       "1  seems lik pc lahore has charged gst from a cus...  \n",
       "2  is it possible that @fbrspokesperson @punjabre...  \n",
       "3  selangor journal | padu to help reduce fuel su...  \n",
       "4  those who are migrant workers don't need to pa...  "
      ]
     },
     "execution_count": 5,
     "metadata": {},
     "output_type": "execute_result"
    }
   ],
   "source": [
    "# Function to remove numbers from text\n",
    "def remove_numbers(text):\n",
    "    return re.sub(r'\\d+', '', text)\n",
    "\n",
    "# Apply the function to the 'text' column\n",
    "budget_data['text'] = budget_data['text'].apply(remove_numbers)\n",
    "\n",
    "# Display the first few rows to verify the changes\n",
    "budget_data.head()\n"
   ]
  },
  {
   "cell_type": "markdown",
   "id": "8322072f",
   "metadata": {},
   "source": [
    "5. Removing Stopwords from the text"
   ]
  },
  {
   "cell_type": "code",
   "execution_count": 6,
   "id": "a54f261d",
   "metadata": {},
   "outputs": [
    {
     "name": "stdout",
     "output_type": "stream",
     "text": [
      "Requirement already satisfied: nltk in c:\\users\\manas\\anaconda3\\lib\\site-packages (3.6.1)\n",
      "Requirement already satisfied: joblib in c:\\users\\manas\\anaconda3\\lib\\site-packages (from nltk) (1.0.1)\n",
      "Requirement already satisfied: click in c:\\users\\manas\\anaconda3\\lib\\site-packages (from nltk) (7.1.2)\n",
      "Requirement already satisfied: regex in c:\\users\\manas\\anaconda3\\lib\\site-packages (from nltk) (2021.4.4)\n",
      "Requirement already satisfied: tqdm in c:\\users\\manas\\anaconda3\\lib\\site-packages (from nltk) (4.59.0)\n"
     ]
    },
    {
     "name": "stderr",
     "output_type": "stream",
     "text": [
      "[nltk_data] Downloading package stopwords to\n",
      "[nltk_data]     C:\\Users\\manas\\AppData\\Roaming\\nltk_data...\n",
      "[nltk_data]   Package stopwords is already up-to-date!\n"
     ]
    },
    {
     "data": {
      "text/html": [
       "<div>\n",
       "<style scoped>\n",
       "    .dataframe tbody tr th:only-of-type {\n",
       "        vertical-align: middle;\n",
       "    }\n",
       "\n",
       "    .dataframe tbody tr th {\n",
       "        vertical-align: top;\n",
       "    }\n",
       "\n",
       "    .dataframe thead th {\n",
       "        text-align: right;\n",
       "    }\n",
       "</style>\n",
       "<table border=\"1\" class=\"dataframe\">\n",
       "  <thead>\n",
       "    <tr style=\"text-align: right;\">\n",
       "      <th></th>\n",
       "      <th>datetime</th>\n",
       "      <th>text</th>\n",
       "    </tr>\n",
       "  </thead>\n",
       "  <tbody>\n",
       "    <tr>\n",
       "      <th>0</th>\n",
       "      <td>2024-01-01 02:50:00+00:00</td>\n",
       "      <td>new year, new gst 💸</td>\n",
       "    </tr>\n",
       "    <tr>\n",
       "      <th>1</th>\n",
       "      <td>2024-01-01 16:04:00+00:00</td>\n",
       "      <td>seems lik pc lahore charged gst customer paid ...</td>\n",
       "    </tr>\n",
       "    <tr>\n",
       "      <th>2</th>\n",
       "      <td>2024-01-01 16:09:00+00:00</td>\n",
       "      <td>possible @fbrspokesperson @punjabrevenue grant...</td>\n",
       "    </tr>\n",
       "    <tr>\n",
       "      <th>3</th>\n",
       "      <td>2024-01-02 06:38:00+00:00</td>\n",
       "      <td>selangor journal | padu help reduce fuel subsi...</td>\n",
       "    </tr>\n",
       "    <tr>\n",
       "      <th>4</th>\n",
       "      <td>2024-01-03 02:59:00+00:00</td>\n",
       "      <td>migrant workers need pay income tax money earn...</td>\n",
       "    </tr>\n",
       "  </tbody>\n",
       "</table>\n",
       "</div>"
      ],
      "text/plain": [
       "                    datetime  \\\n",
       "0  2024-01-01 02:50:00+00:00   \n",
       "1  2024-01-01 16:04:00+00:00   \n",
       "2  2024-01-01 16:09:00+00:00   \n",
       "3  2024-01-02 06:38:00+00:00   \n",
       "4  2024-01-03 02:59:00+00:00   \n",
       "\n",
       "                                                text  \n",
       "0                                new year, new gst 💸  \n",
       "1  seems lik pc lahore charged gst customer paid ...  \n",
       "2  possible @fbrspokesperson @punjabrevenue grant...  \n",
       "3  selangor journal | padu help reduce fuel subsi...  \n",
       "4  migrant workers need pay income tax money earn...  "
      ]
     },
     "execution_count": 6,
     "metadata": {},
     "output_type": "execute_result"
    }
   ],
   "source": [
    "!pip install nltk\n",
    "import nltk\n",
    "from nltk.corpus import stopwords\n",
    "\n",
    "# Download the stopwords from NLTK\n",
    "nltk.download('stopwords')\n",
    "\n",
    "# Get the list of English stop words\n",
    "stop_words = set(stopwords.words('english'))\n",
    "\n",
    "# Function to remove stop words from text\n",
    "def remove_stopwords(text):\n",
    "    return ' '.join([word for word in text.split() if word not in stop_words])\n",
    "\n",
    "# Apply the function to the 'text' column\n",
    "budget_data['text'] = budget_data['text'].apply(remove_stopwords)\n",
    "\n",
    "# Display the first few rows to verify the changes\n",
    "budget_data.head()\n"
   ]
  },
  {
   "cell_type": "markdown",
   "id": "fd477c7d",
   "metadata": {},
   "source": [
    "6. Remove Mentions(@usernames) from the text"
   ]
  },
  {
   "cell_type": "code",
   "execution_count": 7,
   "id": "e1f67861",
   "metadata": {},
   "outputs": [
    {
     "data": {
      "text/html": [
       "<div>\n",
       "<style scoped>\n",
       "    .dataframe tbody tr th:only-of-type {\n",
       "        vertical-align: middle;\n",
       "    }\n",
       "\n",
       "    .dataframe tbody tr th {\n",
       "        vertical-align: top;\n",
       "    }\n",
       "\n",
       "    .dataframe thead th {\n",
       "        text-align: right;\n",
       "    }\n",
       "</style>\n",
       "<table border=\"1\" class=\"dataframe\">\n",
       "  <thead>\n",
       "    <tr style=\"text-align: right;\">\n",
       "      <th></th>\n",
       "      <th>datetime</th>\n",
       "      <th>text</th>\n",
       "    </tr>\n",
       "  </thead>\n",
       "  <tbody>\n",
       "    <tr>\n",
       "      <th>0</th>\n",
       "      <td>2024-01-01 02:50:00+00:00</td>\n",
       "      <td>new year, new gst 💸</td>\n",
       "    </tr>\n",
       "    <tr>\n",
       "      <th>1</th>\n",
       "      <td>2024-01-01 16:04:00+00:00</td>\n",
       "      <td>seems lik pc lahore charged gst customer paid ...</td>\n",
       "    </tr>\n",
       "    <tr>\n",
       "      <th>2</th>\n",
       "      <td>2024-01-01 16:09:00+00:00</td>\n",
       "      <td>possible   grants right deduct gst mentioned s...</td>\n",
       "    </tr>\n",
       "    <tr>\n",
       "      <th>3</th>\n",
       "      <td>2024-01-02 06:38:00+00:00</td>\n",
       "      <td>selangor journal | padu help reduce fuel subsi...</td>\n",
       "    </tr>\n",
       "    <tr>\n",
       "      <th>4</th>\n",
       "      <td>2024-01-03 02:59:00+00:00</td>\n",
       "      <td>migrant workers need pay income tax money earn...</td>\n",
       "    </tr>\n",
       "  </tbody>\n",
       "</table>\n",
       "</div>"
      ],
      "text/plain": [
       "                    datetime  \\\n",
       "0  2024-01-01 02:50:00+00:00   \n",
       "1  2024-01-01 16:04:00+00:00   \n",
       "2  2024-01-01 16:09:00+00:00   \n",
       "3  2024-01-02 06:38:00+00:00   \n",
       "4  2024-01-03 02:59:00+00:00   \n",
       "\n",
       "                                                text  \n",
       "0                                new year, new gst 💸  \n",
       "1  seems lik pc lahore charged gst customer paid ...  \n",
       "2  possible   grants right deduct gst mentioned s...  \n",
       "3  selangor journal | padu help reduce fuel subsi...  \n",
       "4  migrant workers need pay income tax money earn...  "
      ]
     },
     "execution_count": 7,
     "metadata": {},
     "output_type": "execute_result"
    }
   ],
   "source": [
    "# Function to remove mentions from text\n",
    "def remove_mentions(text):\n",
    "    mention_pattern = re.compile(r'@\\w+')\n",
    "    return mention_pattern.sub(r'', text)\n",
    "\n",
    "# Apply the function to the 'text' column\n",
    "budget_data['text'] = budget_data['text'].apply(remove_mentions)\n",
    "\n",
    "# Display the first few rows to verify the changes\n",
    "budget_data.head()\n"
   ]
  },
  {
   "cell_type": "markdown",
   "id": "ffe3d861",
   "metadata": {},
   "source": [
    "7. Removing hashtags from the text"
   ]
  },
  {
   "cell_type": "code",
   "execution_count": 8,
   "id": "f64bee88",
   "metadata": {},
   "outputs": [
    {
     "data": {
      "text/html": [
       "<div>\n",
       "<style scoped>\n",
       "    .dataframe tbody tr th:only-of-type {\n",
       "        vertical-align: middle;\n",
       "    }\n",
       "\n",
       "    .dataframe tbody tr th {\n",
       "        vertical-align: top;\n",
       "    }\n",
       "\n",
       "    .dataframe thead th {\n",
       "        text-align: right;\n",
       "    }\n",
       "</style>\n",
       "<table border=\"1\" class=\"dataframe\">\n",
       "  <thead>\n",
       "    <tr style=\"text-align: right;\">\n",
       "      <th></th>\n",
       "      <th>datetime</th>\n",
       "      <th>text</th>\n",
       "    </tr>\n",
       "  </thead>\n",
       "  <tbody>\n",
       "    <tr>\n",
       "      <th>0</th>\n",
       "      <td>2024-01-01 02:50:00+00:00</td>\n",
       "      <td>new year, new gst 💸</td>\n",
       "    </tr>\n",
       "    <tr>\n",
       "      <th>1</th>\n",
       "      <td>2024-01-01 16:04:00+00:00</td>\n",
       "      <td>seems lik pc lahore charged gst customer paid ...</td>\n",
       "    </tr>\n",
       "    <tr>\n",
       "      <th>2</th>\n",
       "      <td>2024-01-01 16:09:00+00:00</td>\n",
       "      <td>possible   grants right deduct gst mentioned s...</td>\n",
       "    </tr>\n",
       "    <tr>\n",
       "      <th>3</th>\n",
       "      <td>2024-01-02 06:38:00+00:00</td>\n",
       "      <td>selangor journal | padu help reduce fuel subsi...</td>\n",
       "    </tr>\n",
       "    <tr>\n",
       "      <th>4</th>\n",
       "      <td>2024-01-03 02:59:00+00:00</td>\n",
       "      <td>migrant workers need pay income tax money earn...</td>\n",
       "    </tr>\n",
       "  </tbody>\n",
       "</table>\n",
       "</div>"
      ],
      "text/plain": [
       "                    datetime  \\\n",
       "0  2024-01-01 02:50:00+00:00   \n",
       "1  2024-01-01 16:04:00+00:00   \n",
       "2  2024-01-01 16:09:00+00:00   \n",
       "3  2024-01-02 06:38:00+00:00   \n",
       "4  2024-01-03 02:59:00+00:00   \n",
       "\n",
       "                                                text  \n",
       "0                                new year, new gst 💸  \n",
       "1  seems lik pc lahore charged gst customer paid ...  \n",
       "2  possible   grants right deduct gst mentioned s...  \n",
       "3  selangor journal | padu help reduce fuel subsi...  \n",
       "4  migrant workers need pay income tax money earn...  "
      ]
     },
     "execution_count": 8,
     "metadata": {},
     "output_type": "execute_result"
    }
   ],
   "source": [
    "# Function to remove hashtags from text\n",
    "def remove_hashtags(text):\n",
    "    hashtag_pattern = re.compile(r'#\\w+')\n",
    "    return hashtag_pattern.sub(r'', text)\n",
    "\n",
    "# Apply the function to the 'text' column\n",
    "budget_data['text'] = budget_data['text'].apply(remove_hashtags)\n",
    "\n",
    "# Display the first few rows to verify the changes\n",
    "budget_data.head()\n"
   ]
  },
  {
   "cell_type": "markdown",
   "id": "c1786fc3",
   "metadata": {},
   "source": [
    "8. Removing punctuations from the text"
   ]
  },
  {
   "cell_type": "code",
   "execution_count": 9,
   "id": "a21669f7",
   "metadata": {},
   "outputs": [
    {
     "data": {
      "text/html": [
       "<div>\n",
       "<style scoped>\n",
       "    .dataframe tbody tr th:only-of-type {\n",
       "        vertical-align: middle;\n",
       "    }\n",
       "\n",
       "    .dataframe tbody tr th {\n",
       "        vertical-align: top;\n",
       "    }\n",
       "\n",
       "    .dataframe thead th {\n",
       "        text-align: right;\n",
       "    }\n",
       "</style>\n",
       "<table border=\"1\" class=\"dataframe\">\n",
       "  <thead>\n",
       "    <tr style=\"text-align: right;\">\n",
       "      <th></th>\n",
       "      <th>datetime</th>\n",
       "      <th>text</th>\n",
       "    </tr>\n",
       "  </thead>\n",
       "  <tbody>\n",
       "    <tr>\n",
       "      <th>0</th>\n",
       "      <td>2024-01-01 02:50:00+00:00</td>\n",
       "      <td>new year new gst 💸</td>\n",
       "    </tr>\n",
       "    <tr>\n",
       "      <th>1</th>\n",
       "      <td>2024-01-01 16:04:00+00:00</td>\n",
       "      <td>seems lik pc lahore charged gst customer paid ...</td>\n",
       "    </tr>\n",
       "    <tr>\n",
       "      <th>2</th>\n",
       "      <td>2024-01-01 16:09:00+00:00</td>\n",
       "      <td>possible   grants right deduct gst mentioned s...</td>\n",
       "    </tr>\n",
       "    <tr>\n",
       "      <th>3</th>\n",
       "      <td>2024-01-02 06:38:00+00:00</td>\n",
       "      <td>selangor journal  padu help reduce fuel subsid...</td>\n",
       "    </tr>\n",
       "    <tr>\n",
       "      <th>4</th>\n",
       "      <td>2024-01-03 02:59:00+00:00</td>\n",
       "      <td>migrant workers need pay income tax money earn...</td>\n",
       "    </tr>\n",
       "  </tbody>\n",
       "</table>\n",
       "</div>"
      ],
      "text/plain": [
       "                    datetime  \\\n",
       "0  2024-01-01 02:50:00+00:00   \n",
       "1  2024-01-01 16:04:00+00:00   \n",
       "2  2024-01-01 16:09:00+00:00   \n",
       "3  2024-01-02 06:38:00+00:00   \n",
       "4  2024-01-03 02:59:00+00:00   \n",
       "\n",
       "                                                text  \n",
       "0                                 new year new gst 💸  \n",
       "1  seems lik pc lahore charged gst customer paid ...  \n",
       "2  possible   grants right deduct gst mentioned s...  \n",
       "3  selangor journal  padu help reduce fuel subsid...  \n",
       "4  migrant workers need pay income tax money earn...  "
      ]
     },
     "execution_count": 9,
     "metadata": {},
     "output_type": "execute_result"
    }
   ],
   "source": [
    "import string\n",
    "\n",
    "# Function to remove punctuation from text\n",
    "def remove_punctuation(text):\n",
    "    return text.translate(str.maketrans('', '', string.punctuation))\n",
    "\n",
    "# Apply the function to the 'text' column\n",
    "budget_data['text'] = budget_data['text'].apply(remove_punctuation)\n",
    "\n",
    "# Display the first few rows to verify the changes\n",
    "budget_data.head()\n"
   ]
  },
  {
   "cell_type": "markdown",
   "id": "dda778de",
   "metadata": {},
   "source": [
    "9. Tokenize Text into Words"
   ]
  },
  {
   "cell_type": "code",
   "execution_count": 10,
   "id": "67cbd06d",
   "metadata": {},
   "outputs": [
    {
     "data": {
      "text/html": [
       "<div>\n",
       "<style scoped>\n",
       "    .dataframe tbody tr th:only-of-type {\n",
       "        vertical-align: middle;\n",
       "    }\n",
       "\n",
       "    .dataframe tbody tr th {\n",
       "        vertical-align: top;\n",
       "    }\n",
       "\n",
       "    .dataframe thead th {\n",
       "        text-align: right;\n",
       "    }\n",
       "</style>\n",
       "<table border=\"1\" class=\"dataframe\">\n",
       "  <thead>\n",
       "    <tr style=\"text-align: right;\">\n",
       "      <th></th>\n",
       "      <th>text</th>\n",
       "      <th>tokens</th>\n",
       "    </tr>\n",
       "  </thead>\n",
       "  <tbody>\n",
       "    <tr>\n",
       "      <th>0</th>\n",
       "      <td>new year new gst 💸</td>\n",
       "      <td>[new, year, new, gst, 💸]</td>\n",
       "    </tr>\n",
       "    <tr>\n",
       "      <th>1</th>\n",
       "      <td>seems lik pc lahore charged gst customer paid ...</td>\n",
       "      <td>[seems, lik, pc, lahore, charged, gst, custome...</td>\n",
       "    </tr>\n",
       "    <tr>\n",
       "      <th>2</th>\n",
       "      <td>possible   grants right deduct gst mentioned s...</td>\n",
       "      <td>[possible, grants, right, deduct, gst, mention...</td>\n",
       "    </tr>\n",
       "    <tr>\n",
       "      <th>3</th>\n",
       "      <td>selangor journal  padu help reduce fuel subsid...</td>\n",
       "      <td>[selangor, journal, padu, help, reduce, fuel, ...</td>\n",
       "    </tr>\n",
       "    <tr>\n",
       "      <th>4</th>\n",
       "      <td>migrant workers need pay income tax money earn...</td>\n",
       "      <td>[migrant, workers, need, pay, income, tax, mon...</td>\n",
       "    </tr>\n",
       "  </tbody>\n",
       "</table>\n",
       "</div>"
      ],
      "text/plain": [
       "                                                text  \\\n",
       "0                                 new year new gst 💸   \n",
       "1  seems lik pc lahore charged gst customer paid ...   \n",
       "2  possible   grants right deduct gst mentioned s...   \n",
       "3  selangor journal  padu help reduce fuel subsid...   \n",
       "4  migrant workers need pay income tax money earn...   \n",
       "\n",
       "                                              tokens  \n",
       "0                           [new, year, new, gst, 💸]  \n",
       "1  [seems, lik, pc, lahore, charged, gst, custome...  \n",
       "2  [possible, grants, right, deduct, gst, mention...  \n",
       "3  [selangor, journal, padu, help, reduce, fuel, ...  \n",
       "4  [migrant, workers, need, pay, income, tax, mon...  "
      ]
     },
     "execution_count": 10,
     "metadata": {},
     "output_type": "execute_result"
    }
   ],
   "source": [
    "# Function to tokenize the text\n",
    "def tokenize_text(text):\n",
    "    return text.split()\n",
    "\n",
    "# Apply the function to the 'text' column\n",
    "budget_data['tokens'] = budget_data['text'].apply(tokenize_text)\n",
    "\n",
    "# Display the first few rows to verify the changes\n",
    "budget_data[['text', 'tokens']].head()\n"
   ]
  },
  {
   "cell_type": "markdown",
   "id": "b2272c20",
   "metadata": {},
   "source": [
    "10. Lemmatize Tokens Using NLTK WordNet Lemmatizer"
   ]
  },
  {
   "cell_type": "code",
   "execution_count": 11,
   "id": "db686739",
   "metadata": {},
   "outputs": [
    {
     "name": "stdout",
     "output_type": "stream",
     "text": [
      "Requirement already satisfied: nltk in c:\\users\\manas\\anaconda3\\lib\\site-packages (3.6.1)\n",
      "Requirement already satisfied: joblib in c:\\users\\manas\\anaconda3\\lib\\site-packages (from nltk) (1.0.1)\n",
      "Requirement already satisfied: regex in c:\\users\\manas\\anaconda3\\lib\\site-packages (from nltk) (2021.4.4)\n",
      "Requirement already satisfied: tqdm in c:\\users\\manas\\anaconda3\\lib\\site-packages (from nltk) (4.59.0)\n",
      "Requirement already satisfied: click in c:\\users\\manas\\anaconda3\\lib\\site-packages (from nltk) (7.1.2)\n"
     ]
    },
    {
     "name": "stderr",
     "output_type": "stream",
     "text": [
      "[nltk_data] Downloading package wordnet to\n",
      "[nltk_data]     C:\\Users\\manas\\AppData\\Roaming\\nltk_data...\n",
      "[nltk_data]   Package wordnet is already up-to-date!\n",
      "[nltk_data] Downloading package omw-1.4 to\n",
      "[nltk_data]     C:\\Users\\manas\\AppData\\Roaming\\nltk_data...\n",
      "[nltk_data]   Package omw-1.4 is already up-to-date!\n"
     ]
    },
    {
     "data": {
      "text/html": [
       "<div>\n",
       "<style scoped>\n",
       "    .dataframe tbody tr th:only-of-type {\n",
       "        vertical-align: middle;\n",
       "    }\n",
       "\n",
       "    .dataframe tbody tr th {\n",
       "        vertical-align: top;\n",
       "    }\n",
       "\n",
       "    .dataframe thead th {\n",
       "        text-align: right;\n",
       "    }\n",
       "</style>\n",
       "<table border=\"1\" class=\"dataframe\">\n",
       "  <thead>\n",
       "    <tr style=\"text-align: right;\">\n",
       "      <th></th>\n",
       "      <th>text</th>\n",
       "      <th>tokens</th>\n",
       "    </tr>\n",
       "  </thead>\n",
       "  <tbody>\n",
       "    <tr>\n",
       "      <th>0</th>\n",
       "      <td>new year new gst 💸</td>\n",
       "      <td>[new, year, new, gst, 💸]</td>\n",
       "    </tr>\n",
       "    <tr>\n",
       "      <th>1</th>\n",
       "      <td>seems lik pc lahore charged gst customer paid ...</td>\n",
       "      <td>[seems, lik, pc, lahore, charged, gst, custome...</td>\n",
       "    </tr>\n",
       "    <tr>\n",
       "      <th>2</th>\n",
       "      <td>possible   grants right deduct gst mentioned s...</td>\n",
       "      <td>[possible, grant, right, deduct, gst, mentione...</td>\n",
       "    </tr>\n",
       "    <tr>\n",
       "      <th>3</th>\n",
       "      <td>selangor journal  padu help reduce fuel subsid...</td>\n",
       "      <td>[selangor, journal, padu, help, reduce, fuel, ...</td>\n",
       "    </tr>\n",
       "    <tr>\n",
       "      <th>4</th>\n",
       "      <td>migrant workers need pay income tax money earn...</td>\n",
       "      <td>[migrant, worker, need, pay, income, tax, mone...</td>\n",
       "    </tr>\n",
       "  </tbody>\n",
       "</table>\n",
       "</div>"
      ],
      "text/plain": [
       "                                                text  \\\n",
       "0                                 new year new gst 💸   \n",
       "1  seems lik pc lahore charged gst customer paid ...   \n",
       "2  possible   grants right deduct gst mentioned s...   \n",
       "3  selangor journal  padu help reduce fuel subsid...   \n",
       "4  migrant workers need pay income tax money earn...   \n",
       "\n",
       "                                              tokens  \n",
       "0                           [new, year, new, gst, 💸]  \n",
       "1  [seems, lik, pc, lahore, charged, gst, custome...  \n",
       "2  [possible, grant, right, deduct, gst, mentione...  \n",
       "3  [selangor, journal, padu, help, reduce, fuel, ...  \n",
       "4  [migrant, worker, need, pay, income, tax, mone...  "
      ]
     },
     "execution_count": 11,
     "metadata": {},
     "output_type": "execute_result"
    }
   ],
   "source": [
    "!pip install nltk\n",
    "import nltk\n",
    "from nltk.stem import WordNetLemmatizer\n",
    "\n",
    "# Download the WordNet lemmatizer\n",
    "nltk.download('wordnet')\n",
    "nltk.download('omw-1.4')\n",
    "\n",
    "# Initialize the lemmatizer\n",
    "lemmatizer = WordNetLemmatizer()\n",
    "\n",
    "# Function to lemmatize tokens\n",
    "def lemmatize_tokens(tokens):\n",
    "    return [lemmatizer.lemmatize(token) for token in tokens]\n",
    "\n",
    "# Apply the function to the 'tokens' column\n",
    "budget_data['tokens'] = budget_data['tokens'].apply(lemmatize_tokens)\n",
    "\n",
    "# Display the first few rows to verify the changes\n",
    "budget_data[['text', 'tokens']].head()\n"
   ]
  },
  {
   "cell_type": "markdown",
   "id": "8736b679",
   "metadata": {},
   "source": [
    "11. Handle Negations in Text Using NLTK Tokenizer"
   ]
  },
  {
   "cell_type": "code",
   "execution_count": 12,
   "id": "f8e10b90",
   "metadata": {},
   "outputs": [
    {
     "name": "stderr",
     "output_type": "stream",
     "text": [
      "[nltk_data] Downloading package punkt to\n",
      "[nltk_data]     C:\\Users\\manas\\AppData\\Roaming\\nltk_data...\n",
      "[nltk_data]   Package punkt is already up-to-date!\n"
     ]
    },
    {
     "data": {
      "text/plain": [
       "True"
      ]
     },
     "execution_count": 12,
     "metadata": {},
     "output_type": "execute_result"
    }
   ],
   "source": [
    "import nltk\n",
    "\n",
    "# Download the punkt tokenizer\n",
    "nltk.download('punkt')\n"
   ]
  },
  {
   "cell_type": "code",
   "execution_count": 13,
   "id": "0d240df3",
   "metadata": {},
   "outputs": [
    {
     "data": {
      "text/html": [
       "<div>\n",
       "<style scoped>\n",
       "    .dataframe tbody tr th:only-of-type {\n",
       "        vertical-align: middle;\n",
       "    }\n",
       "\n",
       "    .dataframe tbody tr th {\n",
       "        vertical-align: top;\n",
       "    }\n",
       "\n",
       "    .dataframe thead th {\n",
       "        text-align: right;\n",
       "    }\n",
       "</style>\n",
       "<table border=\"1\" class=\"dataframe\">\n",
       "  <thead>\n",
       "    <tr style=\"text-align: right;\">\n",
       "      <th></th>\n",
       "      <th>text</th>\n",
       "      <th>tokens</th>\n",
       "    </tr>\n",
       "  </thead>\n",
       "  <tbody>\n",
       "    <tr>\n",
       "      <th>0</th>\n",
       "      <td>new year new gst 💸</td>\n",
       "      <td>[new, year, new, gst, 💸]</td>\n",
       "    </tr>\n",
       "    <tr>\n",
       "      <th>1</th>\n",
       "      <td>seems lik pc lahore charged gst customer paid ...</td>\n",
       "      <td>[seems, lik, pc, lahore, charged, gst, custome...</td>\n",
       "    </tr>\n",
       "    <tr>\n",
       "      <th>2</th>\n",
       "      <td>possible grants right deduct gst mentioned sal...</td>\n",
       "      <td>[possible, grants, right, deduct, gst, mention...</td>\n",
       "    </tr>\n",
       "    <tr>\n",
       "      <th>3</th>\n",
       "      <td>selangor journal padu help reduce fuel subsidi...</td>\n",
       "      <td>[selangor, journal, padu, help, reduce, fuel, ...</td>\n",
       "    </tr>\n",
       "    <tr>\n",
       "      <th>4</th>\n",
       "      <td>migrant workers need pay income tax money earn...</td>\n",
       "      <td>[migrant, workers, need, pay, income, tax, mon...</td>\n",
       "    </tr>\n",
       "  </tbody>\n",
       "</table>\n",
       "</div>"
      ],
      "text/plain": [
       "                                                text  \\\n",
       "0                                 new year new gst 💸   \n",
       "1  seems lik pc lahore charged gst customer paid ...   \n",
       "2  possible grants right deduct gst mentioned sal...   \n",
       "3  selangor journal padu help reduce fuel subsidi...   \n",
       "4  migrant workers need pay income tax money earn...   \n",
       "\n",
       "                                              tokens  \n",
       "0                           [new, year, new, gst, 💸]  \n",
       "1  [seems, lik, pc, lahore, charged, gst, custome...  \n",
       "2  [possible, grants, right, deduct, gst, mention...  \n",
       "3  [selangor, journal, padu, help, reduce, fuel, ...  \n",
       "4  [migrant, workers, need, pay, income, tax, mon...  "
      ]
     },
     "execution_count": 13,
     "metadata": {},
     "output_type": "execute_result"
    }
   ],
   "source": [
    "from nltk.tokenize import word_tokenize\n",
    "import re\n",
    "\n",
    "# Function to handle negations\n",
    "def handle_negations(text):\n",
    "    negation_words = [\"not\", \"no\", \"never\", \"n't\"]\n",
    "    tokens = word_tokenize(text)\n",
    "    negation = False\n",
    "    processed_tokens = []\n",
    "    \n",
    "    for token in tokens:\n",
    "        if negation:\n",
    "            token = f\"not_{token}\"\n",
    "            negation = False\n",
    "        if token in negation_words:\n",
    "            negation = True\n",
    "        else:\n",
    "            processed_tokens.append(token)\n",
    "    \n",
    "    return ' '.join(processed_tokens)\n",
    "\n",
    "# Apply the function to the 'text' column\n",
    "budget_data['text'] = budget_data['text'].apply(handle_negations)\n",
    "\n",
    "# Re-tokenize the text after handling negations\n",
    "budget_data['tokens'] = budget_data['text'].apply(lambda x: x.split())\n",
    "\n",
    "# Display the first few rows to verify the changes\n",
    "budget_data[['text', 'tokens']].head()\n"
   ]
  },
  {
   "cell_type": "markdown",
   "id": "adb47775",
   "metadata": {},
   "source": [
    "12. Remove Duplicate Rows Based on Text Column"
   ]
  },
  {
   "cell_type": "code",
   "execution_count": 14,
   "id": "40a81756",
   "metadata": {},
   "outputs": [
    {
     "data": {
      "text/plain": [
       "(8218, 3)"
      ]
     },
     "execution_count": 14,
     "metadata": {},
     "output_type": "execute_result"
    }
   ],
   "source": [
    "# Remove duplicate rows based on the 'text' column\n",
    "budget_data = budget_data.drop_duplicates(subset='text')\n",
    "\n",
    "# Display the number of rows to verify the changes\n",
    "budget_data.shape\n"
   ]
  },
  {
   "cell_type": "markdown",
   "id": "9c02aa26",
   "metadata": {},
   "source": [
    "13. Convert Text Data to TF-IDF Features Using TfidfVectorizer"
   ]
  },
  {
   "cell_type": "code",
   "execution_count": 15,
   "id": "2e55c48d",
   "metadata": {},
   "outputs": [
    {
     "data": {
      "text/html": [
       "<div>\n",
       "<style scoped>\n",
       "    .dataframe tbody tr th:only-of-type {\n",
       "        vertical-align: middle;\n",
       "    }\n",
       "\n",
       "    .dataframe tbody tr th {\n",
       "        vertical-align: top;\n",
       "    }\n",
       "\n",
       "    .dataframe thead th {\n",
       "        text-align: right;\n",
       "    }\n",
       "</style>\n",
       "<table border=\"1\" class=\"dataframe\">\n",
       "  <thead>\n",
       "    <tr style=\"text-align: right;\">\n",
       "      <th></th>\n",
       "      <th>able</th>\n",
       "      <th>according</th>\n",
       "      <th>account</th>\n",
       "      <th>achieve</th>\n",
       "      <th>across</th>\n",
       "      <th>act</th>\n",
       "      <th>action</th>\n",
       "      <th>actual</th>\n",
       "      <th>actually</th>\n",
       "      <th>adani</th>\n",
       "      <th>...</th>\n",
       "      <th>𝗦𝗨𝗠𝗠𝗔𝗥𝗬</th>\n",
       "      <th>𝗧𝗬𝗣𝗘</th>\n",
       "      <th>𝗪𝗘𝗚𝗥𝗢</th>\n",
       "      <th>𝘈𝘐𝘨𝘦𝘯𝘦𝘳𝘢𝘵𝘦𝘥</th>\n",
       "      <th>𝘕𝘰𝘵𝘦</th>\n",
       "      <th>𝘛𝘩𝘪𝘴</th>\n",
       "      <th>𝘢𝘯</th>\n",
       "      <th>𝘪𝘴</th>\n",
       "      <th>𝘴𝘶𝘮𝘮𝘢𝘳𝘺</th>\n",
       "      <th>𝙬𝙚𝙜𝙧𝙤𝙘𝙤𝙢</th>\n",
       "    </tr>\n",
       "  </thead>\n",
       "  <tbody>\n",
       "    <tr>\n",
       "      <th>0</th>\n",
       "      <td>0.0</td>\n",
       "      <td>0.0</td>\n",
       "      <td>0.0</td>\n",
       "      <td>0.0</td>\n",
       "      <td>0.0</td>\n",
       "      <td>0.0</td>\n",
       "      <td>0.0</td>\n",
       "      <td>0.0</td>\n",
       "      <td>0.0</td>\n",
       "      <td>0.0</td>\n",
       "      <td>...</td>\n",
       "      <td>0.0</td>\n",
       "      <td>0.0</td>\n",
       "      <td>0.0</td>\n",
       "      <td>0.0</td>\n",
       "      <td>0.0</td>\n",
       "      <td>0.0</td>\n",
       "      <td>0.0</td>\n",
       "      <td>0.0</td>\n",
       "      <td>0.0</td>\n",
       "      <td>0.0</td>\n",
       "    </tr>\n",
       "    <tr>\n",
       "      <th>1</th>\n",
       "      <td>0.0</td>\n",
       "      <td>0.0</td>\n",
       "      <td>0.0</td>\n",
       "      <td>0.0</td>\n",
       "      <td>0.0</td>\n",
       "      <td>0.0</td>\n",
       "      <td>0.0</td>\n",
       "      <td>0.0</td>\n",
       "      <td>0.0</td>\n",
       "      <td>0.0</td>\n",
       "      <td>...</td>\n",
       "      <td>0.0</td>\n",
       "      <td>0.0</td>\n",
       "      <td>0.0</td>\n",
       "      <td>0.0</td>\n",
       "      <td>0.0</td>\n",
       "      <td>0.0</td>\n",
       "      <td>0.0</td>\n",
       "      <td>0.0</td>\n",
       "      <td>0.0</td>\n",
       "      <td>0.0</td>\n",
       "    </tr>\n",
       "    <tr>\n",
       "      <th>2</th>\n",
       "      <td>0.0</td>\n",
       "      <td>0.0</td>\n",
       "      <td>0.0</td>\n",
       "      <td>0.0</td>\n",
       "      <td>0.0</td>\n",
       "      <td>0.0</td>\n",
       "      <td>0.0</td>\n",
       "      <td>0.0</td>\n",
       "      <td>0.0</td>\n",
       "      <td>0.0</td>\n",
       "      <td>...</td>\n",
       "      <td>0.0</td>\n",
       "      <td>0.0</td>\n",
       "      <td>0.0</td>\n",
       "      <td>0.0</td>\n",
       "      <td>0.0</td>\n",
       "      <td>0.0</td>\n",
       "      <td>0.0</td>\n",
       "      <td>0.0</td>\n",
       "      <td>0.0</td>\n",
       "      <td>0.0</td>\n",
       "    </tr>\n",
       "    <tr>\n",
       "      <th>3</th>\n",
       "      <td>0.0</td>\n",
       "      <td>0.0</td>\n",
       "      <td>0.0</td>\n",
       "      <td>0.0</td>\n",
       "      <td>0.0</td>\n",
       "      <td>0.0</td>\n",
       "      <td>0.0</td>\n",
       "      <td>0.0</td>\n",
       "      <td>0.0</td>\n",
       "      <td>0.0</td>\n",
       "      <td>...</td>\n",
       "      <td>0.0</td>\n",
       "      <td>0.0</td>\n",
       "      <td>0.0</td>\n",
       "      <td>0.0</td>\n",
       "      <td>0.0</td>\n",
       "      <td>0.0</td>\n",
       "      <td>0.0</td>\n",
       "      <td>0.0</td>\n",
       "      <td>0.0</td>\n",
       "      <td>0.0</td>\n",
       "    </tr>\n",
       "    <tr>\n",
       "      <th>4</th>\n",
       "      <td>0.0</td>\n",
       "      <td>0.0</td>\n",
       "      <td>0.0</td>\n",
       "      <td>0.0</td>\n",
       "      <td>0.0</td>\n",
       "      <td>0.0</td>\n",
       "      <td>0.0</td>\n",
       "      <td>0.0</td>\n",
       "      <td>0.0</td>\n",
       "      <td>0.0</td>\n",
       "      <td>...</td>\n",
       "      <td>0.0</td>\n",
       "      <td>0.0</td>\n",
       "      <td>0.0</td>\n",
       "      <td>0.0</td>\n",
       "      <td>0.0</td>\n",
       "      <td>0.0</td>\n",
       "      <td>0.0</td>\n",
       "      <td>0.0</td>\n",
       "      <td>0.0</td>\n",
       "      <td>0.0</td>\n",
       "    </tr>\n",
       "  </tbody>\n",
       "</table>\n",
       "<p>5 rows × 1000 columns</p>\n",
       "</div>"
      ],
      "text/plain": [
       "   able  according  account  achieve  across  act  action  actual  actually  \\\n",
       "0   0.0        0.0      0.0      0.0     0.0  0.0     0.0     0.0       0.0   \n",
       "1   0.0        0.0      0.0      0.0     0.0  0.0     0.0     0.0       0.0   \n",
       "2   0.0        0.0      0.0      0.0     0.0  0.0     0.0     0.0       0.0   \n",
       "3   0.0        0.0      0.0      0.0     0.0  0.0     0.0     0.0       0.0   \n",
       "4   0.0        0.0      0.0      0.0     0.0  0.0     0.0     0.0       0.0   \n",
       "\n",
       "   adani  ...  𝗦𝗨𝗠𝗠𝗔𝗥𝗬  𝗧𝗬𝗣𝗘  𝗪𝗘𝗚𝗥𝗢  𝘈𝘐𝘨𝘦𝘯𝘦𝘳𝘢𝘵𝘦𝘥  𝘕𝘰𝘵𝘦  𝘛𝘩𝘪𝘴   𝘢𝘯   𝘪𝘴  \\\n",
       "0    0.0  ...      0.0   0.0    0.0          0.0   0.0   0.0  0.0  0.0   \n",
       "1    0.0  ...      0.0   0.0    0.0          0.0   0.0   0.0  0.0  0.0   \n",
       "2    0.0  ...      0.0   0.0    0.0          0.0   0.0   0.0  0.0  0.0   \n",
       "3    0.0  ...      0.0   0.0    0.0          0.0   0.0   0.0  0.0  0.0   \n",
       "4    0.0  ...      0.0   0.0    0.0          0.0   0.0   0.0  0.0  0.0   \n",
       "\n",
       "   𝘴𝘶𝘮𝘮𝘢𝘳𝘺  𝙬𝙚𝙜𝙧𝙤𝙘𝙤𝙢  \n",
       "0      0.0       0.0  \n",
       "1      0.0       0.0  \n",
       "2      0.0       0.0  \n",
       "3      0.0       0.0  \n",
       "4      0.0       0.0  \n",
       "\n",
       "[5 rows x 1000 columns]"
      ]
     },
     "execution_count": 15,
     "metadata": {},
     "output_type": "execute_result"
    }
   ],
   "source": [
    "from sklearn.feature_extraction.text import TfidfVectorizer\n",
    "\n",
    "# Initialize the TF-IDF Vectorizer\n",
    "tfidf = TfidfVectorizer(max_features=1000)  # You can adjust max_features as needed\n",
    "\n",
    "# Fit and transform the text data to TF-IDF features\n",
    "tfidf_matrix = tfidf.fit_transform(budget_data['text'])\n",
    "\n",
    "# Convert the TF-IDF matrix to a DataFrame for easier viewing\n",
    "tfidf_df = pd.DataFrame(tfidf_matrix.toarray(), columns=tfidf.get_feature_names())\n",
    "\n",
    "# Display the first few rows to verify the TF-IDF matrix\n",
    "tfidf_df.head()\n"
   ]
  },
  {
   "cell_type": "markdown",
   "id": "338b1a7a",
   "metadata": {},
   "source": [
    "14. Final Data Inspection"
   ]
  },
  {
   "cell_type": "code",
   "execution_count": 16,
   "id": "ed2461cc",
   "metadata": {},
   "outputs": [
    {
     "data": {
      "text/html": [
       "<div>\n",
       "<style scoped>\n",
       "    .dataframe tbody tr th:only-of-type {\n",
       "        vertical-align: middle;\n",
       "    }\n",
       "\n",
       "    .dataframe tbody tr th {\n",
       "        vertical-align: top;\n",
       "    }\n",
       "\n",
       "    .dataframe thead th {\n",
       "        text-align: right;\n",
       "    }\n",
       "</style>\n",
       "<table border=\"1\" class=\"dataframe\">\n",
       "  <thead>\n",
       "    <tr style=\"text-align: right;\">\n",
       "      <th></th>\n",
       "      <th>datetime</th>\n",
       "      <th>text</th>\n",
       "      <th>tokens</th>\n",
       "    </tr>\n",
       "  </thead>\n",
       "  <tbody>\n",
       "    <tr>\n",
       "      <th>0</th>\n",
       "      <td>2024-01-01 02:50:00+00:00</td>\n",
       "      <td>new year new gst 💸</td>\n",
       "      <td>[new, year, new, gst, 💸]</td>\n",
       "    </tr>\n",
       "    <tr>\n",
       "      <th>1</th>\n",
       "      <td>2024-01-01 16:04:00+00:00</td>\n",
       "      <td>seems lik pc lahore charged gst customer paid ...</td>\n",
       "      <td>[seems, lik, pc, lahore, charged, gst, custome...</td>\n",
       "    </tr>\n",
       "    <tr>\n",
       "      <th>2</th>\n",
       "      <td>2024-01-01 16:09:00+00:00</td>\n",
       "      <td>possible grants right deduct gst mentioned sal...</td>\n",
       "      <td>[possible, grants, right, deduct, gst, mention...</td>\n",
       "    </tr>\n",
       "    <tr>\n",
       "      <th>3</th>\n",
       "      <td>2024-01-02 06:38:00+00:00</td>\n",
       "      <td>selangor journal padu help reduce fuel subsidi...</td>\n",
       "      <td>[selangor, journal, padu, help, reduce, fuel, ...</td>\n",
       "    </tr>\n",
       "    <tr>\n",
       "      <th>4</th>\n",
       "      <td>2024-01-03 02:59:00+00:00</td>\n",
       "      <td>migrant workers need pay income tax money earn...</td>\n",
       "      <td>[migrant, workers, need, pay, income, tax, mon...</td>\n",
       "    </tr>\n",
       "  </tbody>\n",
       "</table>\n",
       "</div>"
      ],
      "text/plain": [
       "                    datetime  \\\n",
       "0  2024-01-01 02:50:00+00:00   \n",
       "1  2024-01-01 16:04:00+00:00   \n",
       "2  2024-01-01 16:09:00+00:00   \n",
       "3  2024-01-02 06:38:00+00:00   \n",
       "4  2024-01-03 02:59:00+00:00   \n",
       "\n",
       "                                                text  \\\n",
       "0                                 new year new gst 💸   \n",
       "1  seems lik pc lahore charged gst customer paid ...   \n",
       "2  possible grants right deduct gst mentioned sal...   \n",
       "3  selangor journal padu help reduce fuel subsidi...   \n",
       "4  migrant workers need pay income tax money earn...   \n",
       "\n",
       "                                              tokens  \n",
       "0                           [new, year, new, gst, 💸]  \n",
       "1  [seems, lik, pc, lahore, charged, gst, custome...  \n",
       "2  [possible, grants, right, deduct, gst, mention...  \n",
       "3  [selangor, journal, padu, help, reduce, fuel, ...  \n",
       "4  [migrant, workers, need, pay, income, tax, mon...  "
      ]
     },
     "execution_count": 16,
     "metadata": {},
     "output_type": "execute_result"
    }
   ],
   "source": [
    "# Display the first few rows of the cleaned dataset\n",
    "budget_data.head()"
   ]
  },
  {
   "cell_type": "code",
   "execution_count": 17,
   "id": "829a04c9",
   "metadata": {},
   "outputs": [
    {
     "data": {
      "text/html": [
       "<div>\n",
       "<style scoped>\n",
       "    .dataframe tbody tr th:only-of-type {\n",
       "        vertical-align: middle;\n",
       "    }\n",
       "\n",
       "    .dataframe tbody tr th {\n",
       "        vertical-align: top;\n",
       "    }\n",
       "\n",
       "    .dataframe thead th {\n",
       "        text-align: right;\n",
       "    }\n",
       "</style>\n",
       "<table border=\"1\" class=\"dataframe\">\n",
       "  <thead>\n",
       "    <tr style=\"text-align: right;\">\n",
       "      <th></th>\n",
       "      <th>datetime</th>\n",
       "      <th>text</th>\n",
       "      <th>tokens</th>\n",
       "    </tr>\n",
       "  </thead>\n",
       "  <tbody>\n",
       "    <tr>\n",
       "      <th>1094</th>\n",
       "      <td>2024-08-14 16:29:00+00:00</td>\n",
       "      <td>sec gst used officials without complying manda...</td>\n",
       "      <td>[sec, gst, used, officials, without, complying...</td>\n",
       "    </tr>\n",
       "    <tr>\n",
       "      <th>3687</th>\n",
       "      <td>2024-08-17 10:09:00+00:00</td>\n",
       "      <td>cm chandrababu met pm modi minutes meeting sig...</td>\n",
       "      <td>[cm, chandrababu, met, pm, modi, minutes, meet...</td>\n",
       "    </tr>\n",
       "    <tr>\n",
       "      <th>7219</th>\n",
       "      <td>2024-08-20 13:22:00+00:00</td>\n",
       "      <td>advait infratech ltd received order amounting ...</td>\n",
       "      <td>[advait, infratech, ltd, received, order, amou...</td>\n",
       "    </tr>\n",
       "    <tr>\n",
       "      <th>6221</th>\n",
       "      <td>2024-08-20 03:30:00+00:00</td>\n",
       "      <td>ensure compliance timely gstr filings smooth g...</td>\n",
       "      <td>[ensure, compliance, timely, gstr, filings, sm...</td>\n",
       "    </tr>\n",
       "    <tr>\n",
       "      <th>6094</th>\n",
       "      <td>2024-08-19 20:01:00+00:00</td>\n",
       "      <td>cook food home stop spending outside budget oh...</td>\n",
       "      <td>[cook, food, home, stop, spending, outside, bu...</td>\n",
       "    </tr>\n",
       "  </tbody>\n",
       "</table>\n",
       "</div>"
      ],
      "text/plain": [
       "                       datetime  \\\n",
       "1094  2024-08-14 16:29:00+00:00   \n",
       "3687  2024-08-17 10:09:00+00:00   \n",
       "7219  2024-08-20 13:22:00+00:00   \n",
       "6221  2024-08-20 03:30:00+00:00   \n",
       "6094  2024-08-19 20:01:00+00:00   \n",
       "\n",
       "                                                   text  \\\n",
       "1094  sec gst used officials without complying manda...   \n",
       "3687  cm chandrababu met pm modi minutes meeting sig...   \n",
       "7219  advait infratech ltd received order amounting ...   \n",
       "6221  ensure compliance timely gstr filings smooth g...   \n",
       "6094  cook food home stop spending outside budget oh...   \n",
       "\n",
       "                                                 tokens  \n",
       "1094  [sec, gst, used, officials, without, complying...  \n",
       "3687  [cm, chandrababu, met, pm, modi, minutes, meet...  \n",
       "7219  [advait, infratech, ltd, received, order, amou...  \n",
       "6221  [ensure, compliance, timely, gstr, filings, sm...  \n",
       "6094  [cook, food, home, stop, spending, outside, bu...  "
      ]
     },
     "execution_count": 17,
     "metadata": {},
     "output_type": "execute_result"
    }
   ],
   "source": [
    "# Display a few random rows to check the data\n",
    "budget_data.sample(5)"
   ]
  },
  {
   "cell_type": "code",
   "execution_count": 18,
   "id": "f93f0d5a",
   "metadata": {},
   "outputs": [
    {
     "name": "stdout",
     "output_type": "stream",
     "text": [
      "<class 'pandas.core.frame.DataFrame'>\n",
      "Int64Index: 8218 entries, 0 to 10070\n",
      "Data columns (total 3 columns):\n",
      " #   Column    Non-Null Count  Dtype \n",
      "---  ------    --------------  ----- \n",
      " 0   datetime  8218 non-null   object\n",
      " 1   text      8218 non-null   object\n",
      " 2   tokens    8218 non-null   object\n",
      "dtypes: object(3)\n",
      "memory usage: 256.8+ KB\n"
     ]
    }
   ],
   "source": [
    "# Check for any remaining issues like empty tokens or unexpected characters\n",
    "budget_data.info()"
   ]
  },
  {
   "cell_type": "markdown",
   "id": "48383619",
   "metadata": {},
   "source": [
    "15. Detect and Remove Non-English Tweets Using Language Detection"
   ]
  },
  {
   "cell_type": "code",
   "execution_count": 19,
   "id": "d9aa3e48",
   "metadata": {},
   "outputs": [
    {
     "name": "stdout",
     "output_type": "stream",
     "text": [
      "Requirement already satisfied: langdetect in c:\\users\\manas\\anaconda3\\lib\\site-packages (1.0.9)\n",
      "Requirement already satisfied: six in c:\\users\\manas\\anaconda3\\lib\\site-packages (from langdetect) (1.15.0)\n"
     ]
    },
    {
     "data": {
      "text/plain": [
       "(740,\n",
       "                                                  text language\n",
       " 0                                  new year new gst 💸       cy\n",
       " 8   tak silap kalau bayar zakat pendapatan nnti ti...       id\n",
       " 15                                        well budget       cy\n",
       " 32                      mcdonalds old menu new menu 🤣       cy\n",
       " 44  complete steps requirements thailand tourist v...       fr)"
      ]
     },
     "execution_count": 19,
     "metadata": {},
     "output_type": "execute_result"
    }
   ],
   "source": [
    "!pip install langdetect\n",
    "from langdetect import detect, LangDetectException\n",
    "\n",
    "# Function to detect the language of the text\n",
    "def detect_language(text):\n",
    "    try:\n",
    "        return detect(text)\n",
    "    except LangDetectException:\n",
    "        return \"unknown\"\n",
    "\n",
    "# Apply the detection function to determine the language of each tweet\n",
    "budget_data['language'] = budget_data['text'].apply(detect_language)\n",
    "\n",
    "# Filter out non-English tweets (language != 'en')\n",
    "non_english_tweets = budget_data[budget_data['language'] != 'en']\n",
    "\n",
    "# Count the number of non-English tweets\n",
    "non_english_count = non_english_tweets.shape[0]\n",
    "\n",
    "# Display the number of non-English tweets and some examples\n",
    "non_english_count, non_english_tweets[['text', 'language']].head()\n"
   ]
  },
  {
   "cell_type": "code",
   "execution_count": 20,
   "id": "fd9adc6a",
   "metadata": {},
   "outputs": [
    {
     "data": {
      "text/plain": [
       "(7478, 3)"
      ]
     },
     "execution_count": 20,
     "metadata": {},
     "output_type": "execute_result"
    }
   ],
   "source": [
    "# Remove non-English tweets\n",
    "budget_data_english = budget_data[budget_data['language'] == 'en'].drop(columns=['language'])\n",
    "\n",
    "# Check the shape of the dataset after removal\n",
    "budget_data_english.shape\n"
   ]
  },
  {
   "cell_type": "markdown",
   "id": "71883df7",
   "metadata": {},
   "source": [
    "16. Visualize Tweet Activity Over Time"
   ]
  },
  {
   "cell_type": "code",
   "execution_count": 21,
   "id": "708795c8",
   "metadata": {},
   "outputs": [
    {
     "data": {
      "image/png": "[encoded data removed]",
      "text/plain": [
       "<Figure size 720x432 with 1 Axes>"
      ]
     },
     "metadata": {
      "needs_background": "light"
     },
     "output_type": "display_data"
    }
   ],
   "source": [
    "import matplotlib.pyplot as plt\n",
    "\n",
    "# Convert the datetime column to pandas datetime format\n",
    "budget_data_english['datetime'] = pd.to_datetime(budget_data_english['datetime'])\n",
    "\n",
    "# Group by date and count the number of tweets\n",
    "tweets_per_day = budget_data_english.groupby(budget_data_english['datetime'].dt.date).size()\n",
    "\n",
    "# Plot the tweet activity over time\n",
    "tweets_per_day.plot(kind='line', color='blue', figsize=(10, 6))\n",
    "plt.title('Tweet Activity Over Time')\n",
    "plt.xlabel('Date')\n",
    "plt.ylabel('Number of Tweets')\n",
    "plt.grid(True)\n",
    "plt.show()\n"
   ]
  },
  {
   "cell_type": "markdown",
   "id": "b84c36c7",
   "metadata": {},
   "source": [
    "17. Visualize Hourly Distribution of Tweet Activity"
   ]
  },
  {
   "cell_type": "code",
   "execution_count": 22,
   "id": "cfe7a21d",
   "metadata": {},
   "outputs": [
    {
     "data": {
      "image/png": "[encoded data removed]",
      "text/plain": [
       "<Figure size 720x432 with 1 Axes>"
      ]
     },
     "metadata": {
      "needs_background": "light"
     },
     "output_type": "display_data"
    }
   ],
   "source": [
    "# Group by hour and count the number of tweets\n",
    "tweets_per_hour = budget_data_english.groupby(budget_data_english['datetime'].dt.hour).size()\n",
    "\n",
    "# Plot the hourly tweet activity\n",
    "tweets_per_hour.plot(kind='bar', color='orange', figsize=(10, 6))\n",
    "plt.title('Hourly Tweet Distribution')\n",
    "plt.xlabel('Hour of the Day')\n",
    "plt.ylabel('Number of Tweets')\n",
    "plt.grid(True)\n",
    "plt.show()\n"
   ]
  },
  {
   "cell_type": "markdown",
   "id": "ccbd9b0a",
   "metadata": {},
   "source": [
    "18. Visualize Hourly Distribution of Tweet Activity"
   ]
  },
  {
   "cell_type": "code",
   "execution_count": 23,
   "id": "6fcc0170",
   "metadata": {
    "scrolled": true
   },
   "outputs": [
    {
     "data": {
      "image/png": "[encoded data removed]",
      "text/plain": [
       "<Figure size 432x288 with 1 Axes>"
      ]
     },
     "metadata": {
      "needs_background": "light"
     },
     "output_type": "display_data"
    }
   ],
   "source": [
    "from collections import Counter\n",
    "import matplotlib.pyplot as plt\n",
    "\n",
    "# Flatten the list of tokens into a single list\n",
    "all_words = [word for tokens in budget_data_english['tokens'] for word in tokens]\n",
    "\n",
    "# Count the frequency of each word\n",
    "word_freq = Counter(all_words)\n",
    "\n",
    "# Get the 20 most common words\n",
    "common_words = word_freq.most_common(20)\n",
    "\n",
    "# Plot the most common words\n",
    "words, counts = zip(*common_words)\n",
    "plt.barh(words, counts, color='skyblue')\n",
    "plt.xlabel('Frequency')\n",
    "plt.title('Top 20 Most Common Words')\n",
    "plt.gca().invert_yaxis()\n",
    "plt.show()\n"
   ]
  },
  {
   "cell_type": "markdown",
   "id": "6ca39d00",
   "metadata": {},
   "source": [
    "19. Generate Word Cloud Excluding Common Stopwords"
   ]
  },
  {
   "cell_type": "code",
   "execution_count": 24,
   "id": "3405ad5c",
   "metadata": {
    "scrolled": false
   },
   "outputs": [
    {
     "ename": "NameError",
     "evalue": "name 'all_text' is not defined",
     "output_type": "error",
     "traceback": [
      "\u001b[1;31m---------------------------------------------------------------------------\u001b[0m",
      "\u001b[1;31mNameError\u001b[0m                                 Traceback (most recent call last)",
      "\u001b[1;32m<ipython-input-24-a95bf3ddc0cf>\u001b[0m in \u001b[0;36m<module>\u001b[1;34m\u001b[0m\n\u001b[0;32m      5\u001b[0m \u001b[1;33m\u001b[0m\u001b[0m\n\u001b[0;32m      6\u001b[0m \u001b[1;31m# Generate the word cloud\u001b[0m\u001b[1;33m\u001b[0m\u001b[1;33m\u001b[0m\u001b[1;33m\u001b[0m\u001b[0m\n\u001b[1;32m----> 7\u001b[1;33m \u001b[0mwordcloud\u001b[0m \u001b[1;33m=\u001b[0m \u001b[0mWordCloud\u001b[0m\u001b[1;33m(\u001b[0m\u001b[0mwidth\u001b[0m\u001b[1;33m=\u001b[0m\u001b[1;36m800\u001b[0m\u001b[1;33m,\u001b[0m \u001b[0mheight\u001b[0m\u001b[1;33m=\u001b[0m\u001b[1;36m400\u001b[0m\u001b[1;33m,\u001b[0m \u001b[0mbackground_color\u001b[0m\u001b[1;33m=\u001b[0m\u001b[1;34m'white'\u001b[0m\u001b[1;33m,\u001b[0m \u001b[0mstopwords\u001b[0m\u001b[1;33m=\u001b[0m\u001b[0mstopwords\u001b[0m\u001b[1;33m)\u001b[0m\u001b[1;33m.\u001b[0m\u001b[0mgenerate\u001b[0m\u001b[1;33m(\u001b[0m\u001b[0mall_text\u001b[0m\u001b[1;33m)\u001b[0m\u001b[1;33m\u001b[0m\u001b[1;33m\u001b[0m\u001b[0m\n\u001b[0m\u001b[0;32m      8\u001b[0m \u001b[1;33m\u001b[0m\u001b[0m\n\u001b[0;32m      9\u001b[0m \u001b[1;31m# Display the word cloud\u001b[0m\u001b[1;33m\u001b[0m\u001b[1;33m\u001b[0m\u001b[1;33m\u001b[0m\u001b[0m\n",
      "\u001b[1;31mNameError\u001b[0m: name 'all_text' is not defined"
     ]
    }
   ],
   "source": [
    "from wordcloud import WordCloud, STOPWORDS\n",
    "\n",
    "# Define stopwords to exclude common words\n",
    "stopwords = set(STOPWORDS)\n",
    "\n",
    "# Generate the word cloud\n",
    "wordcloud = WordCloud(width=800, height=400, background_color='white', stopwords=stopwords).generate(all_text)\n",
    "\n",
    "# Display the word cloud\n",
    "plt.figure(figsize=(10, 8))\n",
    "plt.imshow(wordcloud, interpolation='bilinear')\n",
    "plt.axis('off')\n",
    "plt.show()\n"
   ]
  },
  {
   "cell_type": "markdown",
   "id": "95b75d0e",
   "metadata": {},
   "source": [
    "20. Extract and Visualize the Top 20 Most Common Hashtags"
   ]
  },
  {
   "cell_type": "code",
   "execution_count": 25,
   "id": "1099a148",
   "metadata": {},
   "outputs": [
    {
     "data": {
      "image/png": "[encoded data removed]",
      "text/plain": [
       "<Figure size 1008x576 with 1 Axes>"
      ]
     },
     "metadata": {
      "needs_background": "light"
     },
     "output_type": "display_data"
    }
   ],
   "source": [
    "import pandas as pd\n",
    "from collections import Counter\n",
    "import matplotlib.pyplot as plt\n",
    "\n",
    "# Load the original dataset (before preprocessing)\n",
    "file_path = 'budget_2024.csv'\n",
    "original_data = pd.read_csv(file_path)\n",
    "\n",
    "# Extract hashtags from the original text\n",
    "original_data['hashtags'] = original_data['text'].apply(lambda x: [word for word in x.split() if word.startswith('#')])\n",
    "\n",
    "# Flatten the list of hashtags into a single list\n",
    "all_hashtags = [hashtag for hashtags in original_data['hashtags'] for hashtag in hashtags]\n",
    "\n",
    "# Count the frequency of each hashtag\n",
    "hashtag_freq = Counter(all_hashtags)\n",
    "\n",
    "# Get the 20 most common hashtags\n",
    "common_hashtags = hashtag_freq.most_common(20)\n",
    "\n",
    "# Plot the most common hashtags as a bar chart with a larger size\n",
    "plt.figure(figsize=(14, 8))  # Adjust the size as needed (width, height)\n",
    "hashtags, counts = zip(*common_hashtags)\n",
    "plt.barh(hashtags, counts, color='lightcoral')\n",
    "plt.xlabel('Frequency')\n",
    "plt.title('Top 20 Most Common Hashtags')\n",
    "plt.gca().invert_yaxis()\n",
    "plt.show()\n"
   ]
  },
  {
   "cell_type": "markdown",
   "id": "640c5fd3",
   "metadata": {},
   "source": [
    "21. Extract and Visualize the Top 20 Most Common Mentions (@usernames)"
   ]
  },
  {
   "cell_type": "code",
   "execution_count": 26,
   "id": "5d423622",
   "metadata": {},
   "outputs": [
    {
     "data": {
      "image/png": "[encoded data removed]",
      "text/plain": [
       "<Figure size 1008x576 with 1 Axes>"
      ]
     },
     "metadata": {
      "needs_background": "light"
     },
     "output_type": "display_data"
    }
   ],
   "source": [
    "import pandas as pd\n",
    "from collections import Counter\n",
    "import matplotlib.pyplot as plt\n",
    "\n",
    "# Load the original dataset (before preprocessing)\n",
    "file_path = 'budget_2024.csv'\n",
    "original_data = pd.read_csv(file_path)\n",
    "\n",
    "# Extract mentions from the original text\n",
    "original_data['mentions'] = original_data['text'].apply(lambda x: [word for word in x.split() if word.startswith('@')])\n",
    "\n",
    "# Flatten the list of mentions into a single list\n",
    "all_mentions = [mention for mentions in original_data['mentions'] for mention in mentions]\n",
    "\n",
    "# Count the frequency of each mention\n",
    "mention_freq = Counter(all_mentions)\n",
    "\n",
    "# Get the 20 most common mentions\n",
    "common_mentions = mention_freq.most_common(20)\n",
    "\n",
    "# Plot the most common mentions as a bar chart with a larger size\n",
    "plt.figure(figsize=(14, 8))  # Adjust the size as needed (width, height)\n",
    "mentions, counts = zip(*common_mentions)\n",
    "plt.barh(mentions, counts, color='lightblue')\n",
    "plt.xlabel('Frequency')\n",
    "plt.title('Top 20 Most Common Mentions (@usernames)')\n",
    "plt.gca().invert_yaxis()\n",
    "plt.show()\n"
   ]
  },
  {
   "cell_type": "markdown",
   "id": "8377e132",
   "metadata": {},
   "source": [
    "22. Perform Sentiment Analysis Using NLTK VADER"
   ]
  },
  {
   "cell_type": "code",
   "execution_count": 27,
   "id": "c7e87d24",
   "metadata": {},
   "outputs": [
    {
     "name": "stderr",
     "output_type": "stream",
     "text": [
      "[nltk_data] Downloading package vader_lexicon to\n",
      "[nltk_data]     C:\\Users\\manas\\AppData\\Roaming\\nltk_data...\n",
      "[nltk_data]   Package vader_lexicon is already up-to-date!\n"
     ]
    },
    {
     "data": {
      "text/html": [
       "<div>\n",
       "<style scoped>\n",
       "    .dataframe tbody tr th:only-of-type {\n",
       "        vertical-align: middle;\n",
       "    }\n",
       "\n",
       "    .dataframe tbody tr th {\n",
       "        vertical-align: top;\n",
       "    }\n",
       "\n",
       "    .dataframe thead th {\n",
       "        text-align: right;\n",
       "    }\n",
       "</style>\n",
       "<table border=\"1\" class=\"dataframe\">\n",
       "  <thead>\n",
       "    <tr style=\"text-align: right;\">\n",
       "      <th></th>\n",
       "      <th>text</th>\n",
       "      <th>sentiment</th>\n",
       "      <th>sentiment_label</th>\n",
       "    </tr>\n",
       "  </thead>\n",
       "  <tbody>\n",
       "    <tr>\n",
       "      <th>1</th>\n",
       "      <td>seems lik pc lahore charged gst customer paid ...</td>\n",
       "      <td>-0.2023</td>\n",
       "      <td>negative</td>\n",
       "    </tr>\n",
       "    <tr>\n",
       "      <th>2</th>\n",
       "      <td>possible grants right deduct gst mentioned sal...</td>\n",
       "      <td>0.0258</td>\n",
       "      <td>neutral</td>\n",
       "    </tr>\n",
       "    <tr>\n",
       "      <th>3</th>\n",
       "      <td>selangor journal padu help reduce fuel subsidi...</td>\n",
       "      <td>0.4019</td>\n",
       "      <td>positive</td>\n",
       "    </tr>\n",
       "    <tr>\n",
       "      <th>4</th>\n",
       "      <td>migrant workers need pay income tax money earn...</td>\n",
       "      <td>-0.1027</td>\n",
       "      <td>negative</td>\n",
       "    </tr>\n",
       "    <tr>\n",
       "      <th>5</th>\n",
       "      <td>agreed think us recession hit h high beta get ...</td>\n",
       "      <td>-0.8176</td>\n",
       "      <td>negative</td>\n",
       "    </tr>\n",
       "  </tbody>\n",
       "</table>\n",
       "</div>"
      ],
      "text/plain": [
       "                                                text  sentiment  \\\n",
       "1  seems lik pc lahore charged gst customer paid ...    -0.2023   \n",
       "2  possible grants right deduct gst mentioned sal...     0.0258   \n",
       "3  selangor journal padu help reduce fuel subsidi...     0.4019   \n",
       "4  migrant workers need pay income tax money earn...    -0.1027   \n",
       "5  agreed think us recession hit h high beta get ...    -0.8176   \n",
       "\n",
       "  sentiment_label  \n",
       "1        negative  \n",
       "2         neutral  \n",
       "3        positive  \n",
       "4        negative  \n",
       "5        negative  "
      ]
     },
     "execution_count": 27,
     "metadata": {},
     "output_type": "execute_result"
    }
   ],
   "source": [
    "import nltk\n",
    "\n",
    "# Download the VADER lexicon\n",
    "nltk.download('vader_lexicon')\n",
    "\n",
    "from nltk.sentiment.vader import SentimentIntensityAnalyzer\n",
    "import matplotlib.pyplot as plt\n",
    "\n",
    "# Initialize the VADER sentiment analyzer\n",
    "sia = SentimentIntensityAnalyzer()\n",
    "\n",
    "# Apply sentiment analysis\n",
    "budget_data_english['sentiment'] = budget_data_english['text'].apply(lambda x: sia.polarity_scores(x)['compound'])\n",
    "\n",
    "# Classify the sentiment as positive, negative, or neutral\n",
    "budget_data_english['sentiment_label'] = budget_data_english['sentiment'].apply(\n",
    "    lambda x: 'positive' if x > 0.05 else ('negative' if x < -0.05 else 'neutral')\n",
    ")\n",
    "\n",
    "# Display the first few rows to verify the results\n",
    "budget_data_english[['text', 'sentiment', 'sentiment_label']].head()\n"
   ]
  },
  {
   "cell_type": "markdown",
   "id": "d9368c68",
   "metadata": {},
   "source": [
    "23. Visualize Sentiment Trends Over Time for Each Sentiment Category"
   ]
  },
  {
   "cell_type": "code",
   "execution_count": 28,
   "id": "a5b62c70",
   "metadata": {},
   "outputs": [
    {
     "data": {
      "image/png": "[encoded data removed]",
      "text/plain": [
       "<Figure size 1152x1296 with 3 Axes>"
      ]
     },
     "metadata": {
      "needs_background": "light"
     },
     "output_type": "display_data"
    }
   ],
   "source": [
    "# Group sentiment by date for visualization\n",
    "sentiment_over_time = budget_data_english.groupby([budget_data_english['datetime'].dt.date, 'sentiment_label']).size().unstack().fillna(0)\n",
    "\n",
    "# Create separate subplots for each sentiment\n",
    "fig, axes = plt.subplots(3, 1, figsize=(16, 18), sharex=True)\n",
    "\n",
    "# Plot positive sentiment\n",
    "sentiment_over_time['positive'].plot(kind='line', marker='o', ax=axes[0], color='green', title='Positive Sentiment Over Time')\n",
    "axes[0].set_ylabel('Number of Tweets')\n",
    "\n",
    "# Plot neutral sentiment\n",
    "sentiment_over_time['neutral'].plot(kind='line', marker='o', ax=axes[1], color='orange', title='Neutral Sentiment Over Time')\n",
    "axes[1].set_ylabel('Number of Tweets')\n",
    "\n",
    "# Plot negative sentiment\n",
    "sentiment_over_time['negative'].plot(kind='line', marker='o', ax=axes[2], color='red', title='Negative Sentiment Over Time')\n",
    "axes[2].set_ylabel('Number of Tweets')\n",
    "\n",
    "# Overall title and labels\n",
    "plt.xlabel('Date')\n",
    "plt.suptitle('Sentiment Trends Over Time', fontsize=16)\n",
    "plt.show()"
   ]
  },
  {
   "cell_type": "markdown",
   "id": "c151d703",
   "metadata": {},
   "source": [
    "24. Visualize Tweet Length Distribution by Sentiment Using Swarm Plot"
   ]
  },
  {
   "cell_type": "code",
   "execution_count": 29,
   "id": "d03f7d34",
   "metadata": {},
   "outputs": [
    {
     "name": "stderr",
     "output_type": "stream",
     "text": [
      "C:\\Users\\manas\\anaconda3\\lib\\site-packages\\seaborn\\categorical.py:1296: UserWarning: 64.0% of the points cannot be placed; you may want to decrease the size of the markers or use stripplot.\n",
      "  warnings.warn(msg, UserWarning)\n",
      "C:\\Users\\manas\\anaconda3\\lib\\site-packages\\seaborn\\categorical.py:1296: UserWarning: 40.2% of the points cannot be placed; you may want to decrease the size of the markers or use stripplot.\n",
      "  warnings.warn(msg, UserWarning)\n",
      "C:\\Users\\manas\\anaconda3\\lib\\site-packages\\seaborn\\categorical.py:1296: UserWarning: 40.5% of the points cannot be placed; you may want to decrease the size of the markers or use stripplot.\n",
      "  warnings.warn(msg, UserWarning)\n"
     ]
    },
    {
     "data": {
      "image/png": "[encoded data removed]",
      "text/plain": [
       "<Figure size 864x432 with 1 Axes>"
      ]
     },
     "metadata": {
      "needs_background": "light"
     },
     "output_type": "display_data"
    }
   ],
   "source": [
    "import matplotlib.pyplot as plt\n",
    "import seaborn as sns\n",
    "\n",
    "# Subsample the data (using 20% of the data)\n",
    "sample_data = budget_data_english.sample(frac=0.3, random_state=1)  # Adjust the fraction as needed\n",
    "\n",
    "# Calculate the length of each tweet in the subsample\n",
    "sample_data['tweet_length'] = sample_data['text'].apply(len)\n",
    "\n",
    "# Plot the swarm plot using the subsampled data\n",
    "plt.figure(figsize=(12, 6))\n",
    "sns.swarmplot(x='sentiment_label', y='tweet_length', data=sample_data, palette='Set2', size=4)\n",
    "plt.title('Tweet Length by Sentiment (Swarm Plot with Subsampling)')\n",
    "plt.xlabel('Sentiment')\n",
    "plt.ylabel('Tweet Length (characters)')\n",
    "plt.show()\n"
   ]
  },
  {
   "cell_type": "markdown",
   "id": "63cb7f41",
   "metadata": {},
   "source": [
    "25. Visualize Top 15 Most Common Bigrams in the Text"
   ]
  },
  {
   "cell_type": "code",
   "execution_count": 30,
   "id": "f0e9d997",
   "metadata": {},
   "outputs": [
    {
     "data": {
      "image/png": "[encoded data removed]",
      "text/plain": [
       "<Figure size 720x432 with 1 Axes>"
      ]
     },
     "metadata": {
      "needs_background": "light"
     },
     "output_type": "display_data"
    }
   ],
   "source": [
    "import matplotlib.pyplot as plt\n",
    "from sklearn.feature_extraction.text import CountVectorizer\n",
    "\n",
    "# Initialize the CountVectorizer to extract bigrams\n",
    "vectorizer = CountVectorizer(ngram_range=(2, 2), max_features=1000)  # Adjust `max_features` as needed\n",
    "X = vectorizer.fit_transform(budget_data_english['text'])\n",
    "\n",
    "# Get the bigrams and their frequencies using get_feature_names()\n",
    "bigrams = vectorizer.get_feature_names()  # Use get_feature_names() for older versions\n",
    "bigram_freq = X.toarray().sum(axis=0)\n",
    "\n",
    "# Get the top 15 bigrams\n",
    "top_15_indices = bigram_freq.argsort()[-15:]  # Indices of the top 15 bigrams\n",
    "top_15_bigrams = [bigrams[i] for i in top_15_indices]\n",
    "top_15_freq = [bigram_freq[i] for i in top_15_indices]\n",
    "\n",
    "# Plot the top 15 bigrams\n",
    "plt.figure(figsize=(10, 6))\n",
    "plt.barh(top_15_bigrams, top_15_freq, color='lightcoral')\n",
    "plt.xlabel('Frequency')\n",
    "plt.title('Top 15 Most Common Bigrams')\n",
    "plt.gca().invert_yaxis()\n",
    "plt.show()\n"
   ]
  },
  {
   "cell_type": "markdown",
   "id": "22c0c2ec",
   "metadata": {},
   "source": [
    "25. Visualize Top 15 Most Common Trigrams in the Text"
   ]
  },
  {
   "cell_type": "code",
   "execution_count": 34,
   "id": "e3d9abce",
   "metadata": {},
   "outputs": [
    {
     "data": {
      "image/png": "[encoded data removed]",
      "text/plain": [
       "<Figure size 864x576 with 1 Axes>"
      ]
     },
     "metadata": {
      "needs_background": "light"
     },
     "output_type": "display_data"
    }
   ],
   "source": [
    "import matplotlib.pyplot as plt\n",
    "from sklearn.feature_extraction.text import CountVectorizer\n",
    "\n",
    "# Set the font to DejaVu Sans for broader Unicode support\n",
    "plt.rcParams['font.family'] = 'DejaVu Sans'\n",
    "\n",
    "# Initialize the CountVectorizer to extract trigrams\n",
    "vectorizer = CountVectorizer(ngram_range=(3, 3), max_features=100)\n",
    "X = vectorizer.fit_transform(budget_data_english['text'])\n",
    "\n",
    "# Get the trigrams and their frequencies using get_feature_names() for older versions\n",
    "trigrams = vectorizer.get_feature_names()\n",
    "trigram_freq = X.toarray().sum(axis=0)\n",
    "\n",
    "# Get the top 15 trigrams\n",
    "top_15_indices = trigram_freq.argsort()[-15:]  # Indices of the top 15 trigrams\n",
    "top_15_trigrams = [trigrams[i] for i in top_15_indices]\n",
    "top_15_freq = [trigram_freq[i] for i in top_15_indices]\n",
    "\n",
    "# Remove non-ASCII characters from the trigram list for better display\n",
    "top_15_trigrams = [trigram.encode('ascii', 'ignore').decode('ascii') for trigram in top_15_trigrams]\n",
    "\n",
    "# Plot the top 15 trigrams with improved appearance settings\n",
    "plt.figure(figsize=(12, 8))  # Increased figure size for better readability\n",
    "plt.barh(top_15_trigrams, top_15_freq, color='lightblue')\n",
    "\n",
    "# Adjust font size for axis labels and title for clarity\n",
    "plt.xlabel('Frequency', fontsize=12)\n",
    "plt.title('Top 15 Most Common Trigrams', fontsize=14)\n",
    "\n",
    "# Ensure labels and layout are properly displayed\n",
    "plt.tight_layout()\n",
    "\n",
    "# Invert the y-axis to display the most common trigram at the top\n",
    "plt.gca().invert_yaxis()\n",
    "plt.show()\n"
   ]
  }
 ],
 "metadata": {
  "kernelspec": {
   "display_name": "Python 3",
   "language": "python",
   "name": "python3"
  },
  "language_info": {
   "codemirror_mode": {
    "name": "ipython",
    "version": 3
   },
   "file_extension": ".py",
   "mimetype": "text/x-python",
   "name": "python",
   "nbconvert_exporter": "python",
   "pygments_lexer": "ipython3",
   "version": "3.8.8"
  }
 },
 "nbformat": 4,
 "nbformat_minor": 5
}
