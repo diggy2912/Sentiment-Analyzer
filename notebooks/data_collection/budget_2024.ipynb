{
 "cells": [
  {
   "cell_type": "code",
   "execution_count": null,
   "id": "f020d8b4-3ea6-47b7-b2c7-71ffc23a41ee",
   "metadata": {},
   "outputs": [],
   "source": [
    "import pandas as pd\n",
    "from ntscraper import Nitter"
   ]
  },
  {
   "cell_type": "code",
   "execution_count": null,
   "id": "b93cb76c-d1ed-4bf9-b321-487fad78b8ed",
   "metadata": {},
   "outputs": [],
   "source": [
    "scraper = Nitter(log_level=1, skip_instance_check=False)"
   ]
  },
  {
   "cell_type": "code",
   "execution_count": null,
   "id": "a5d5182d-ca94-40dd-b4a6-378fc1ce78db",
   "metadata": {},
   "outputs": [],
   "source": [
    "query = [\n",
    "    'Budget 2024-25',\n",
    "    'Budget 24-25',\n",
    "    'India Budget 2024'\n",
    "]"
   ]
  },
  {
   "cell_type": "code",
   "execution_count": null,
   "id": "c1d5c104-4fb4-4138-af87-fbff7f2ae9cc",
   "metadata": {},
   "outputs": [],
   "source": [
    "tweets = scraper.get_tweets(\n",
    "    query,\n",
    "    since='2024-01-01',\n",
    "    until='2024-01-05'\n",
    ")"
   ]
  },
  {
   "cell_type": "code",
   "execution_count": null,
   "id": "3f0a5e92-aebb-470b-98f8-d3abe8ca9f72",
   "metadata": {},
   "outputs": [],
   "source": [
    "tweets"
   ]
  },
  {
   "cell_type": "code",
   "execution_count": null,
   "id": "4380bfed-0104-4565-b025-86462582d51b",
   "metadata": {},
   "outputs": [],
   "source": [
    "import json"
   ]
  },
  {
   "cell_type": "code",
   "execution_count": null,
   "id": "fd0b91fd-24de-4962-a6ea-e7ca426f6e82",
   "metadata": {},
   "outputs": [],
   "source": [
    "print(json.dumps(tweets, indent=2))"
   ]
  },
  {
   "cell_type": "code",
   "execution_count": null,
   "id": "f2c6222d-7c8a-437c-9d26-06f1d2d67a41",
   "metadata": {},
   "outputs": [],
   "source": [
    "for tweet in tweets[0][\"tweets\"][:3]:\n",
    "    print(json.dumps(tweet, indent=2))"
   ]
  }
 ],
 "metadata": {
  "kernelspec": {
   "display_name": "Python 3 (ipykernel)",
   "language": "python",
   "name": "python3"
  },
  "language_info": {
   "codemirror_mode": {
    "name": "ipython",
    "version": 3
   },
   "file_extension": ".py",
   "mimetype": "text/x-python",
   "name": "python",
   "nbconvert_exporter": "python",
   "pygments_lexer": "ipython3",
   "version": "3.12.4"
  }
 },
 "nbformat": 4,
 "nbformat_minor": 5
}
